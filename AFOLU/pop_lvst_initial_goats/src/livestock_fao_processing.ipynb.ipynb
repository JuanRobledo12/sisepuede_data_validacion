{
 "cells": [
  {
   "cell_type": "code",
   "execution_count": 1,
   "id": "ce79f7c0",
   "metadata": {},
   "outputs": [],
   "source": [
    "import pandas as pd \n",
    "import os"
   ]
  },
  {
   "cell_type": "code",
   "execution_count": 2,
   "id": "97342aa3",
   "metadata": {},
   "outputs": [],
   "source": [
    "# Definimos rutas\n",
    "\n",
    "data_path = \"../raw_data\"\n",
    "\n",
    "# Definimos nombres de archivos\n",
    "fao_data_file_name = \"FAOSTAT_data_7-4-2022(2).csv\"\n",
    "\n",
    "# Cargamos datos\n",
    "encode = \"ISO-8859-1\"\n",
    "\n",
    "fao_data = pd.read_csv(os.path.join(data_path, fao_data_file_name), encoding = encode)\n",
    "m49_fao_countries = pd.read_json(\"https://data.apps.fao.org/catalog/dataset/1712bf04-a530-4d55-bb66-54949213985f/resource/b0c1d224-23ea-425d-b994-e15f76feb26b/download/m49-countries.json\")"
   ]
  },
  {
   "cell_type": "code",
   "execution_count": 3,
   "id": "aae2e5cb",
   "metadata": {},
   "outputs": [],
   "source": [
    "# Agregamos el ISO CODE 3 para todos los paises\n",
    "cw_fao_names_iso_code3 = {i:j for i,j in zip(m49_fao_countries[\"country_name_en\"], m49_fao_countries[\"ISO3\"])}\n",
    "fao_data[\"iso_code3\"] = fao_data[\"Area\"].replace(cw_fao_names_iso_code3)\n"
   ]
  },
  {
   "cell_type": "code",
   "execution_count": 4,
   "id": "c6dca3b9",
   "metadata": {},
   "outputs": [],
   "source": [
    "# Cargamos el crosswalk entre Items de FAO ---> sisepuede\n",
    "cw =  pd.read_csv(os.path.join(data_path, \"items_classification.csv\"))[[\"Item_Fao\", \"File_Sisepuede\"]]\n",
    "\n",
    "fao_data = fao_data[fao_data.Item.isin(cw.Item_Fao)]\n",
    "\n",
    "cw_dict = {i : j for i,j in zip(cw[\"Item_Fao\"], cw[\"File_Sisepuede\"])}\n",
    "\n",
    "# 30\n",
    "fao_data[\"sisepuede_item\"] = fao_data[\"Item\"].replace(cw_dict)\n",
    "\n",
    "fao_data = fao_data.groupby([\"iso_code3\", \"Area\",\"Year\",\"sisepuede_item\"])[\"Value\"].mean().reset_index() \n",
    "\n",
    "fao_data = fao_data.pivot(index=['iso_code3', 'Area', 'Year'], columns='sisepuede_item', values='Value').reset_index()  \n",
    "\n",
    "fao_data = fao_data.rename(columns = {\"Area\" : \"Nation\"})\n",
    "\n",
    "fao_data[\"pop_lvst_initial_cattle_dairy\"] = fao_data[\"pop_lvst_initial_cattle_nondairy\"]"
   ]
  },
  {
   "cell_type": "code",
   "execution_count": 5,
   "id": "653e77ab",
   "metadata": {
    "scrolled": false
   },
   "outputs": [
    {
     "name": "stderr",
     "output_type": "stream",
     "text": [
      "/tmp/ipykernel_4896/2518583400.py:10: FutureWarning: Not prepending group keys to the result index of transform-like apply. In the future, the group keys will be included in the index, regardless of whether the applied function returns a like-indexed object.\n",
      "To preserve the previous behavior, use\n",
      "\n",
      "\t>>> .groupby(..., group_keys=False)\n",
      "\n",
      "To adopt the future behavior and silence this warning, use \n",
      "\n",
      "\t>>> .groupby(..., group_keys=True)\n",
      "  fao_data[sise_var] = fao_data.groupby([\"Nation\"])[sise_var].apply(lambda x: x.interpolate().fillna(method='bfill')).reset_index()[sise_var].fillna(0)\n",
      "/tmp/ipykernel_4896/2518583400.py:10: FutureWarning: Not prepending group keys to the result index of transform-like apply. In the future, the group keys will be included in the index, regardless of whether the applied function returns a like-indexed object.\n",
      "To preserve the previous behavior, use\n",
      "\n",
      "\t>>> .groupby(..., group_keys=False)\n",
      "\n",
      "To adopt the future behavior and silence this warning, use \n",
      "\n",
      "\t>>> .groupby(..., group_keys=True)\n",
      "  fao_data[sise_var] = fao_data.groupby([\"Nation\"])[sise_var].apply(lambda x: x.interpolate().fillna(method='bfill')).reset_index()[sise_var].fillna(0)\n",
      "/tmp/ipykernel_4896/2518583400.py:10: FutureWarning: Not prepending group keys to the result index of transform-like apply. In the future, the group keys will be included in the index, regardless of whether the applied function returns a like-indexed object.\n",
      "To preserve the previous behavior, use\n",
      "\n",
      "\t>>> .groupby(..., group_keys=False)\n",
      "\n",
      "To adopt the future behavior and silence this warning, use \n",
      "\n",
      "\t>>> .groupby(..., group_keys=True)\n",
      "  fao_data[sise_var] = fao_data.groupby([\"Nation\"])[sise_var].apply(lambda x: x.interpolate().fillna(method='bfill')).reset_index()[sise_var].fillna(0)\n",
      "/tmp/ipykernel_4896/2518583400.py:10: FutureWarning: Not prepending group keys to the result index of transform-like apply. In the future, the group keys will be included in the index, regardless of whether the applied function returns a like-indexed object.\n",
      "To preserve the previous behavior, use\n",
      "\n",
      "\t>>> .groupby(..., group_keys=False)\n",
      "\n",
      "To adopt the future behavior and silence this warning, use \n",
      "\n",
      "\t>>> .groupby(..., group_keys=True)\n",
      "  fao_data[sise_var] = fao_data.groupby([\"Nation\"])[sise_var].apply(lambda x: x.interpolate().fillna(method='bfill')).reset_index()[sise_var].fillna(0)\n",
      "/tmp/ipykernel_4896/2518583400.py:10: FutureWarning: Not prepending group keys to the result index of transform-like apply. In the future, the group keys will be included in the index, regardless of whether the applied function returns a like-indexed object.\n",
      "To preserve the previous behavior, use\n",
      "\n",
      "\t>>> .groupby(..., group_keys=False)\n",
      "\n",
      "To adopt the future behavior and silence this warning, use \n",
      "\n",
      "\t>>> .groupby(..., group_keys=True)\n",
      "  fao_data[sise_var] = fao_data.groupby([\"Nation\"])[sise_var].apply(lambda x: x.interpolate().fillna(method='bfill')).reset_index()[sise_var].fillna(0)\n",
      "/tmp/ipykernel_4896/2518583400.py:10: FutureWarning: Not prepending group keys to the result index of transform-like apply. In the future, the group keys will be included in the index, regardless of whether the applied function returns a like-indexed object.\n",
      "To preserve the previous behavior, use\n",
      "\n",
      "\t>>> .groupby(..., group_keys=False)\n",
      "\n",
      "To adopt the future behavior and silence this warning, use \n",
      "\n",
      "\t>>> .groupby(..., group_keys=True)\n",
      "  fao_data[sise_var] = fao_data.groupby([\"Nation\"])[sise_var].apply(lambda x: x.interpolate().fillna(method='bfill')).reset_index()[sise_var].fillna(0)\n",
      "/tmp/ipykernel_4896/2518583400.py:10: FutureWarning: Not prepending group keys to the result index of transform-like apply. In the future, the group keys will be included in the index, regardless of whether the applied function returns a like-indexed object.\n",
      "To preserve the previous behavior, use\n",
      "\n",
      "\t>>> .groupby(..., group_keys=False)\n",
      "\n",
      "To adopt the future behavior and silence this warning, use \n",
      "\n",
      "\t>>> .groupby(..., group_keys=True)\n",
      "  fao_data[sise_var] = fao_data.groupby([\"Nation\"])[sise_var].apply(lambda x: x.interpolate().fillna(method='bfill')).reset_index()[sise_var].fillna(0)\n",
      "/tmp/ipykernel_4896/2518583400.py:10: FutureWarning: Not prepending group keys to the result index of transform-like apply. In the future, the group keys will be included in the index, regardless of whether the applied function returns a like-indexed object.\n",
      "To preserve the previous behavior, use\n",
      "\n",
      "\t>>> .groupby(..., group_keys=False)\n",
      "\n",
      "To adopt the future behavior and silence this warning, use \n",
      "\n",
      "\t>>> .groupby(..., group_keys=True)\n",
      "  fao_data[sise_var] = fao_data.groupby([\"Nation\"])[sise_var].apply(lambda x: x.interpolate().fillna(method='bfill')).reset_index()[sise_var].fillna(0)\n",
      "/tmp/ipykernel_4896/2518583400.py:10: FutureWarning: Not prepending group keys to the result index of transform-like apply. In the future, the group keys will be included in the index, regardless of whether the applied function returns a like-indexed object.\n",
      "To preserve the previous behavior, use\n",
      "\n",
      "\t>>> .groupby(..., group_keys=False)\n",
      "\n",
      "To adopt the future behavior and silence this warning, use \n",
      "\n",
      "\t>>> .groupby(..., group_keys=True)\n",
      "  fao_data[sise_var] = fao_data.groupby([\"Nation\"])[sise_var].apply(lambda x: x.interpolate().fillna(method='bfill')).reset_index()[sise_var].fillna(0)\n"
     ]
    }
   ],
   "source": [
    "\n",
    "## Hacemos interpolación para cubrir los datos faltantes\n",
    "## Y guardamos datos históricos\n",
    "\n",
    "path_historical_data = \"../input_to_sisepuede/historical\"\n",
    "\n",
    "for sise_var in [i for i in fao_data.columns if \"pop_lvst_\" in i]:\n",
    "\n",
    "    if fao_data[sise_var].isna().any():   \n",
    "        #print(f\"{sise_var}    Tiene NaN\")\n",
    "        fao_data[sise_var] = fao_data.groupby([\"Nation\"])[sise_var].apply(lambda x: x.interpolate().fillna(method='bfill')).reset_index()[sise_var].fillna(0)\n",
    "\n",
    "\n",
    "    fao_data[[\"iso_code3\",\"Nation\", \"Year\",sise_var]].to_csv(os.path.join(path_historical_data,f\"{sise_var}.csv\"), index = False)"
   ]
  },
  {
   "cell_type": "code",
   "execution_count": 6,
   "id": "6e1c7912",
   "metadata": {},
   "outputs": [],
   "source": [
    "## Datos proyectados. El último año lo tomamos como constante para hasta 2050\n",
    "max_year = fao_data.Year.max()\n",
    "\n",
    "fao_data = fao_data.query(f\"Year=={max_year}\")\n",
    "\n",
    "fao_data = fao_data.drop(columns = \"Year\")\n",
    "\n",
    "df_year = pd.DataFrame({\"Year\" : range(max_year+1, 2051)})\n",
    "fao_data_projected = fao_data.merge(df_year, how = \"cross\") \n",
    "\n",
    "path_projected_data = \"../input_to_sisepuede/projected\"\n",
    "\n",
    "for sise_var in [i for i in fao_data.columns if \"pop_lvst_\" in i]:\n",
    "    fao_data_projected[[\"iso_code3\",\"Nation\", \"Year\",sise_var]].to_csv(os.path.join(path_projected_data,f\"{sise_var}.csv\"), index = False)"
   ]
  },
  {
   "cell_type": "code",
   "execution_count": null,
   "id": "661a9e67",
   "metadata": {},
   "outputs": [],
   "source": []
  },
  {
   "cell_type": "code",
   "execution_count": null,
   "id": "650a2621",
   "metadata": {},
   "outputs": [],
   "source": []
  }
 ],
 "metadata": {
  "kernelspec": {
   "display_name": "Python 3 (ipykernel)",
   "language": "python",
   "name": "python3"
  },
  "language_info": {
   "codemirror_mode": {
    "name": "ipython",
    "version": 3
   },
   "file_extension": ".py",
   "mimetype": "text/x-python",
   "name": "python",
   "nbconvert_exporter": "python",
   "pygments_lexer": "ipython3",
   "version": "3.8.10"
  }
 },
 "nbformat": 4,
 "nbformat_minor": 5
}
